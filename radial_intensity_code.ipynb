{
 "cells": [
  {
   "cell_type": "markdown",
   "id": "593af107-1ee6-4ac9-9e93-0f359377a26a",
   "metadata": {},
   "source": [
    "# radial intensity profile code\n",
    "\n",
    "For future reference"
   ]
  },
  {
   "cell_type": "code",
   "execution_count": 8,
   "id": "0ea150ed-c3ca-483a-baba-13f9546cfc5a",
   "metadata": {},
   "outputs": [],
   "source": [
    "# Create a 3D sphere volume of value 1, with radius = 5 in a volume.\n",
    "# The sphere is placed at a random position in the volume\n",
    "import numpy as np\n",
    "\n",
    "# Set the size of the 3D volume\n",
    "size = 50\n",
    "\n",
    "# Initialize a 3D numpy array with zeros\n",
    "volume = np.zeros((size, size, size))\n",
    "\n",
    "# Set the center and radius of the sphere randomly\n",
    "center = np.array([np.random.randint(5, size - 5), np.random.randint(5, size - 5), np.random.randint(5, size - 5)])\n",
    "radius = 5\n",
    "\n",
    "# Loop over all coordinates in the 3D volume\n",
    "for x in range(size):\n",
    "    for y in range(size):\n",
    "        for z in range(size):\n",
    "            # Calculate the distance between the current coordinate and the center\n",
    "            dist = np.sqrt((x-center[0])**2 + (y-center[1])**2 + (z-center[2])**2)\n",
    "            # If the distance is less than the radius, set the value to 1\n",
    "            if dist <= radius:\n",
    "                volume[x,y,z] = 1"
   ]
  },
  {
   "cell_type": "code",
   "execution_count": 9,
   "id": "32fecd3a-67a4-4012-913c-2ab6f738295c",
   "metadata": {},
   "outputs": [
    {
     "data": {
      "text/plain": [
       "<matplotlib.image.AxesImage at 0x19cc857c7c0>"
      ]
     },
     "execution_count": 9,
     "metadata": {},
     "output_type": "execute_result"
    },
    {
     "data": {
      "image/png": "[encoded data removed]",
      "text/plain": [
       "<Figure size 432x288 with 1 Axes>"
      ]
     },
     "metadata": {
      "needs_background": "light"
     },
     "output_type": "display_data"
    }
   ],
   "source": [
    "# Show volume in z (axis=0) projection\n",
    "import matplotlib.pyplot as plt\n",
    "volume = volume.astype(np.uint8)\n",
    "plt.imshow(np.max(volume, axis=0), cmap=\"gray\")"
   ]
  },
  {
   "cell_type": "code",
   "execution_count": 10,
   "id": "ec2745dc-8963-47cd-967c-7002d12598ad",
   "metadata": {},
   "outputs": [
    {
     "data": {
      "text/html": [
       "<div>\n",
       "<style scoped>\n",
       "    .dataframe tbody tr th:only-of-type {\n",
       "        vertical-align: middle;\n",
       "    }\n",
       "\n",
       "    .dataframe tbody tr th {\n",
       "        vertical-align: top;\n",
       "    }\n",
       "\n",
       "    .dataframe thead th {\n",
       "        text-align: right;\n",
       "    }\n",
       "</style>\n",
       "<table border=\"1\" class=\"dataframe\">\n",
       "  <thead>\n",
       "    <tr style=\"text-align: right;\">\n",
       "      <th></th>\n",
       "      <th>centroid-0</th>\n",
       "      <th>centroid-1</th>\n",
       "      <th>centroid-2</th>\n",
       "      <th>area</th>\n",
       "    </tr>\n",
       "  </thead>\n",
       "  <tbody>\n",
       "    <tr>\n",
       "      <th>0</th>\n",
       "      <td>6.0</td>\n",
       "      <td>34.0</td>\n",
       "      <td>24.0</td>\n",
       "      <td>515</td>\n",
       "    </tr>\n",
       "  </tbody>\n",
       "</table>\n",
       "</div>"
      ],
      "text/plain": [
       "   centroid-0  centroid-1  centroid-2  area\n",
       "0         6.0        34.0        24.0   515"
      ]
     },
     "execution_count": 10,
     "metadata": {},
     "output_type": "execute_result"
    }
   ],
   "source": [
    "# Measure the centroid and area (voxel size) of the volume with regionprops\n",
    "from skimage.measure import regionprops_table\n",
    "props_test = regionprops_table(volume, properties=('centroid','area',))\n",
    "\n",
    "# Save the measurement in pandas dataframe\n",
    "import pandas as pd\n",
    "props_test = pd.DataFrame(props_test)\n",
    "props_test.head()"
   ]
  },
  {
   "cell_type": "code",
   "execution_count": 11,
   "id": "789a526c-4169-4802-9055-f62114a6a12a",
   "metadata": {},
   "outputs": [],
   "source": [
    "# A function to calculate the radial intensity profile\n",
    "def radial_intensity(image, x, y, z, r):\n",
    "    # Get the shape of the image\n",
    "    nx, ny, nz = image.shape\n",
    "    \n",
    "    # Create a grid of x, y, and z coordinates for the image\n",
    "    xx, yy, zz = np.meshgrid(np.arange(nx), np.arange(ny), np.arange(nz), indexing='ij')\n",
    "    \n",
    "    # Calculate the distance of each voxel from the center\n",
    "    dist = np.sqrt((xx-x)**2 + (yy-y)**2 + (zz-z)**2)\n",
    "    \n",
    "    # Group voxels by radial distance and calculate the mean intensity of each group\n",
    "    bins = np.arange(0, r+1, 1)\n",
    "    indices = np.digitize(dist.flat, bins)\n",
    "    mean_intensity = [image.flat[indices==i].mean() for i in range(1, len(bins))]\n",
    "    \n",
    "    return mean_intensity"
   ]
  },
  {
   "cell_type": "code",
   "execution_count": 12,
   "id": "92101a39-a754-414e-8f0b-02814a233b5b",
   "metadata": {},
   "outputs": [
    {
     "data": {
      "text/plain": [
       "[<matplotlib.lines.Line2D at 0x19cc85eac70>]"
      ]
     },
     "execution_count": 12,
     "metadata": {},
     "output_type": "execute_result"
    },
    {
     "data": {
      "image/png": "[encoded data removed]",
      "text/plain": [
       "<Figure size 432x288 with 1 Axes>"
      ]
     },
     "metadata": {
      "needs_background": "light"
     },
     "output_type": "display_data"
    }
   ],
   "source": [
    "# Set the center and radius for the radial intensity calculation\n",
    "center = (0, 0, 0)\n",
    "radius = 10\n",
    "\n",
    "# Loop over the rows of the DataFrame and calculate the radial intensity for each point\n",
    "radial_intensity_list = []\n",
    "for i, row in props_test.iterrows():\n",
    "    x = row['centroid-0']\n",
    "    y = row['centroid-1']\n",
    "    z = row['centroid-2']\n",
    "    radial_intensity_value = radial_intensity(volume, x, y, z, radius)\n",
    "    radial_intensity_list.append(radial_intensity_value)\n",
    "\n",
    "# Plot the radial intensity profile    \n",
    "plt.plot(radial_intensity_value)"
   ]
  },
  {
   "cell_type": "code",
   "execution_count": null,
   "id": "784a1e20-5306-4bc1-ae90-927161b5a4f7",
   "metadata": {},
   "outputs": [],
   "source": []
  }
 ],
 "metadata": {
  "kernelspec": {
   "display_name": "Python 3 (ipykernel)",
   "language": "python",
   "name": "python3"
  },
  "language_info": {
   "codemirror_mode": {
    "name": "ipython",
    "version": 3
   },
   "file_extension": ".py",
   "mimetype": "text/x-python",
   "name": "python",
   "nbconvert_exporter": "python",
   "pygments_lexer": "ipython3",
   "version": "3.8.13"
  }
 },
 "nbformat": 4,
 "nbformat_minor": 5
}
